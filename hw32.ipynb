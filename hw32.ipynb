{
  "nbformat": 4,
  "nbformat_minor": 0,
  "metadata": {
    "colab": {
      "provenance": [],
      "authorship_tag": "ABX9TyPs91Y3F61MfoNmJ//YCTSL",
      "include_colab_link": true
    },
    "kernelspec": {
      "name": "python3",
      "display_name": "Python 3"
    },
    "language_info": {
      "name": "python"
    }
  },
  "cells": [
    {
      "cell_type": "markdown",
      "metadata": {
        "id": "view-in-github",
        "colab_type": "text"
      },
      "source": [
        "<a href=\"https://colab.research.google.com/github/holera2008/hw32/blob/main/hw32.ipynb\" target=\"_parent\"><img src=\"https://colab.research.google.com/assets/colab-badge.svg\" alt=\"Open In Colab\"/></a>"
      ]
    },
    {
      "cell_type": "code",
      "execution_count": 1,
      "metadata": {
        "colab": {
          "base_uri": "https://localhost:8080/"
        },
        "id": "EYTVtaTjHWV9",
        "outputId": "4d1d8b5a-e887-48e2-e9aa-7632a84a9b48"
      },
      "outputs": [
        {
          "output_type": "stream",
          "name": "stdout",
          "text": [
            "[{'name': 'Allen Raymond', 'email': 'nulla.ante@vestibul.co.uk', 'phone': '(992) 914-3792', 'favorite': False}, {'name': 'Diana Jones', 'email': 'diajones@gmail.com', 'phone': '(992) 980-4802', 'favorite': True}]\n"
          ]
        }
      ],
      "source": [
        "import pickle\n",
        "\n",
        "\n",
        "data_contacts = [{ \"name\": \"Allen Raymond\", \"email\": \"nulla.ante@vestibul.co.uk\", \"phone\": \"(992) 914-3792\", \"favorite\": False}, { \"name\": \"Diana Jones\", \"email\": \"diajones@gmail.com\", \"phone\": \"(992) 980-4802\", \"favorite\": True}]\n",
        "my_file = 'data.bin'\n",
        "\n",
        "def write_contacts_to_file(filename, contacts):\n",
        "    with open(filename, 'wb') as file:\n",
        "        pickle.dump(data_contacts, file)\n",
        "\n",
        "def read_contacts_from_file(filename, contacts):\n",
        "    with open(filename, 'rb') as file:\n",
        "        readable = pickle.load(file)\n",
        "        print(readable)\n",
        "\n",
        "write_contacts_to_file(my_file, data_contacts)\n",
        "read_contacts_from_file(my_file, data_contacts)"
      ]
    }
  ]
}